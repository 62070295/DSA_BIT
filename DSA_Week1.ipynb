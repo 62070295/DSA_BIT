{
  "nbformat": 4,
  "nbformat_minor": 0,
  "metadata": {
    "colab": {
      "name": "DSA_Week1.ipynb",
      "provenance": [],
      "collapsed_sections": [
        "HtawGe-yM1JK",
        "s61y6fW0M9Vx",
        "hf9hB-M6akBO",
        "rChlwNPmNhRm",
        "8HqkTOj_Wo7v"
      ],
      "authorship_tag": "ABX9TyM5tqTo9uoriC07fgV+J4Gy",
      "include_colab_link": true
    },
    "kernelspec": {
      "name": "python3",
      "display_name": "Python 3"
    }
  },
  "cells": [
    {
      "cell_type": "markdown",
      "metadata": {
        "id": "view-in-github",
        "colab_type": "text"
      },
      "source": [
        "<a href=\"https://colab.research.google.com/github/noswolf/DSA_BIT/blob/master/DSA_Week1.ipynb\" target=\"_parent\"><img src=\"https://colab.research.google.com/assets/colab-badge.svg\" alt=\"Open In Colab\"/></a>"
      ]
    },
    {
      "cell_type": "markdown",
      "metadata": {
        "id": "-fDxsauuLEsy",
        "colab_type": "text"
      },
      "source": [
        "Import required libraries"
      ]
    },
    {
      "cell_type": "code",
      "metadata": {
        "id": "mrLvTlCrKpjm",
        "colab_type": "code",
        "colab": {}
      },
      "source": [
        "import time\n",
        "import numpy as np\n",
        "import matplotlib.pyplot as plt\n"
      ],
      "execution_count": 35,
      "outputs": []
    },
    {
      "cell_type": "markdown",
      "metadata": {
        "id": "HtawGe-yM1JK",
        "colab_type": "text"
      },
      "source": [
        "# Benchmark Analysis"
      ]
    },
    {
      "cell_type": "markdown",
      "metadata": {
        "id": "dq3aS_MNLxqR",
        "colab_type": "text"
      },
      "source": [
        "Iterative version of sum function"
      ]
    },
    {
      "cell_type": "code",
      "metadata": {
        "id": "eGwD5HPHLMSu",
        "colab_type": "code",
        "colab": {}
      },
      "source": [
        "def sumOfN1(n):\n",
        "   theSum = 0\n",
        "   for i in range(1,n+1):\n",
        "      theSum = theSum + i\n",
        "   return theSum"
      ],
      "execution_count": null,
      "outputs": []
    },
    {
      "cell_type": "code",
      "metadata": {
        "id": "sLGJV4J3LKLq",
        "colab_type": "code",
        "colab": {
          "base_uri": "https://localhost:8080/",
          "height": 51
        },
        "outputId": "570b3ec7-773e-4d9c-ebeb-55a8d7e77c5e"
      },
      "source": [
        "# Start timer\n",
        "start = time.time()\n",
        "# Execute function\n",
        "total_sum = sumOfN1(10000)\n",
        "# Record time after function finishes\n",
        "end = time.time()\n",
        "\n",
        "# Take difference to record time used\n",
        "running_time = end-start\n",
        "\n",
        "print(\"Total Sum: %d\"%total_sum)\n",
        "print(\"Time executed: %10.7f seconds\"%running_time)"
      ],
      "execution_count": null,
      "outputs": [
        {
          "output_type": "stream",
          "text": [
            "Total Sum: 50005000\n",
            "Time executed:  0.0009866 seconds\n"
          ],
          "name": "stdout"
        }
      ]
    },
    {
      "cell_type": "markdown",
      "metadata": {
        "id": "sz8UVqgPL33A",
        "colab_type": "text"
      },
      "source": [
        "Summation using equation"
      ]
    },
    {
      "cell_type": "code",
      "metadata": {
        "id": "1oaAGG4NLLHy",
        "colab_type": "code",
        "colab": {}
      },
      "source": [
        "def sumOfN2(n):\n",
        "   return (n*(n+1))/2"
      ],
      "execution_count": null,
      "outputs": []
    },
    {
      "cell_type": "code",
      "metadata": {
        "id": "0Fri1kjgMJS5",
        "colab_type": "code",
        "colab": {
          "base_uri": "https://localhost:8080/",
          "height": 51
        },
        "outputId": "200e4977-360e-4a32-908c-f01a5b885cc0"
      },
      "source": [
        "# Start timer\n",
        "start = time.time()\n",
        "# Execute function\n",
        "total_sum = sumOfN2(10000)\n",
        "# Record time after function finishes\n",
        "end = time.time()\n",
        "\n",
        "# Take difference to record time used\n",
        "running_time = end-start\n",
        "\n",
        "print(\"Total Sum: %d\"%total_sum)\n",
        "print(\"Time executed: %10.7f seconds\"%running_time)"
      ],
      "execution_count": null,
      "outputs": [
        {
          "output_type": "stream",
          "text": [
            "Total Sum: 50005000\n",
            "Time executed:  0.0000534 seconds\n"
          ],
          "name": "stdout"
        }
      ]
    },
    {
      "cell_type": "markdown",
      "metadata": {
        "id": "s61y6fW0M9Vx",
        "colab_type": "text"
      },
      "source": [
        "# Big-O notation"
      ]
    },
    {
      "cell_type": "markdown",
      "metadata": {
        "id": "lmPB2ZanWYu4",
        "colab_type": "text"
      },
      "source": [
        "Factorial - O(n)"
      ]
    },
    {
      "cell_type": "code",
      "metadata": {
        "id": "S5_AokQqMPJ5",
        "colab_type": "code",
        "colab": {}
      },
      "source": [
        "def factorial1(n):\n",
        "  if n <= 1:\n",
        "    return 1\n",
        "  else:\n",
        "    fact = 1\n",
        "    for i in range(2,n+1):\n",
        "      fact *= i\n",
        "    return fact"
      ],
      "execution_count": null,
      "outputs": []
    },
    {
      "cell_type": "code",
      "metadata": {
        "id": "jV56n3L_JIlS",
        "colab_type": "code",
        "colab": {
          "base_uri": "https://localhost:8080/",
          "height": 34
        },
        "outputId": "e900042c-286a-4f5e-bdf6-d2331c29492f"
      },
      "source": [
        "factorial1(10)"
      ],
      "execution_count": null,
      "outputs": [
        {
          "output_type": "execute_result",
          "data": {
            "text/plain": [
              "3628800"
            ]
          },
          "metadata": {
            "tags": []
          },
          "execution_count": 3
        }
      ]
    },
    {
      "cell_type": "markdown",
      "metadata": {
        "id": "6ZZQFXpbp_iF",
        "colab_type": "text"
      },
      "source": [
        "Separate loops are O(n)"
      ]
    },
    {
      "cell_type": "code",
      "metadata": {
        "id": "GqyiKSyup9Xf",
        "colab_type": "code",
        "colab": {}
      },
      "source": [
        "test = 0\n",
        "for i in range(n):\n",
        "   test = test + 1\n",
        "\n",
        "for j in range(n):\n",
        "   test = test - 1"
      ],
      "execution_count": null,
      "outputs": []
    },
    {
      "cell_type": "markdown",
      "metadata": {
        "id": "fDQjzOV0qSEN",
        "colab_type": "text"
      },
      "source": [
        "Value i is cut in half each time through the loop so it is O(log n)"
      ]
    },
    {
      "cell_type": "code",
      "metadata": {
        "id": "J8AXBQapqRoN",
        "colab_type": "code",
        "colab": {}
      },
      "source": [
        "i = n\n",
        "while i > 0:\n",
        "   k = 2 + 2\n",
        "   i = i // 2"
      ],
      "execution_count": null,
      "outputs": []
    },
    {
      "cell_type": "markdown",
      "metadata": {
        "id": "FApZBemaagzH",
        "colab_type": "text"
      },
      "source": [
        "## Nested Loops"
      ]
    },
    {
      "cell_type": "markdown",
      "metadata": {
        "id": "hf9hB-M6akBO",
        "colab_type": "text"
      },
      "source": [
        "### Simple - O(n<sup>2</sup>)"
      ]
    },
    {
      "cell_type": "code",
      "metadata": {
        "id": "pzI5g8gPa2S4",
        "colab_type": "code",
        "colab": {}
      },
      "source": [
        "def simple(n):\n",
        "  for i in range(n):\n",
        "    for j in range(n):\n",
        "      print(\"i: {0}, j: {1}\".format(i,j))"
      ],
      "execution_count": null,
      "outputs": []
    },
    {
      "cell_type": "code",
      "metadata": {
        "id": "hCPOFOugbDIH",
        "colab_type": "code",
        "colab": {
          "base_uri": "https://localhost:8080/",
          "height": 170
        },
        "outputId": "19103146-42d4-4085-acd5-7c8976599fc4"
      },
      "source": [
        "simple(3)"
      ],
      "execution_count": null,
      "outputs": [
        {
          "output_type": "stream",
          "text": [
            "i: 0, j: 0\n",
            "i: 0, j: 1\n",
            "i: 0, j: 2\n",
            "i: 1, j: 0\n",
            "i: 1, j: 1\n",
            "i: 1, j: 2\n",
            "i: 2, j: 0\n",
            "i: 2, j: 1\n",
            "i: 2, j: 2\n"
          ],
          "name": "stdout"
        }
      ]
    },
    {
      "cell_type": "markdown",
      "metadata": {
        "id": "rChlwNPmNhRm",
        "colab_type": "text"
      },
      "source": [
        "### Element Uniqueness"
      ]
    },
    {
      "cell_type": "markdown",
      "metadata": {
        "id": "OC5hw8NoRDj9",
        "colab_type": "text"
      },
      "source": [
        "First version - O(n<sup>2</sup>)"
      ]
    },
    {
      "cell_type": "code",
      "metadata": {
        "id": "OqrT83N_OM4H",
        "colab_type": "code",
        "colab": {}
      },
      "source": [
        "def unique1(s):\n",
        "  for i in range(len(s)):\n",
        "    for j in range(i+1, len(s)):\n",
        "      if s[i] == s[j]:\n",
        "        return False            # Found duplicate pair\n",
        "  return True                   # All elements are unique"
      ],
      "execution_count": 16,
      "outputs": []
    },
    {
      "cell_type": "code",
      "metadata": {
        "id": "MDKJBPxzOeau",
        "colab_type": "code",
        "colab": {
          "base_uri": "https://localhost:8080/",
          "height": 51
        },
        "outputId": "edd98e45-8e88-4249-cbfe-d68c1b6741b9"
      },
      "source": [
        "print(unique1(['a','b','a']))\n",
        "print(unique1(['a','b','c']))"
      ],
      "execution_count": 19,
      "outputs": [
        {
          "output_type": "stream",
          "text": [
            "False\n",
            "True\n"
          ],
          "name": "stdout"
        }
      ]
    },
    {
      "cell_type": "markdown",
      "metadata": {
        "id": "Crmf32rFRGIV",
        "colab_type": "text"
      },
      "source": [
        "Second version - O(n log n)"
      ]
    },
    {
      "cell_type": "code",
      "metadata": {
        "id": "nY11ouyQRIGl",
        "colab_type": "code",
        "colab": {}
      },
      "source": [
        "def unique2(s):\n",
        "  temp = sorted(s)              # create a sorted copy of s\n",
        "  for i in range(1, len(temp)):\n",
        "    if temp[i-1] == temp[i]:\n",
        "      return False              # Found duplicate pair\n",
        "  return True                   # All elements are unique"
      ],
      "execution_count": 25,
      "outputs": []
    },
    {
      "cell_type": "code",
      "metadata": {
        "id": "zebQO34yShnN",
        "colab_type": "code",
        "colab": {
          "base_uri": "https://localhost:8080/",
          "height": 51
        },
        "outputId": "aa67bc98-b7f0-493d-fe3a-ff2aa266131f"
      },
      "source": [
        "print(unique2(['a','b','a']))\n",
        "print(unique2(['a','b','c']))"
      ],
      "execution_count": 27,
      "outputs": [
        {
          "output_type": "stream",
          "text": [
            "False\n",
            "True\n"
          ],
          "name": "stdout"
        }
      ]
    },
    {
      "cell_type": "markdown",
      "metadata": {
        "id": "8HqkTOj_Wo7v",
        "colab_type": "text"
      },
      "source": [
        "### Prefix Averages\n",
        "\n",
        "- Example usage: Track average daily web usage over various time periods."
      ]
    },
    {
      "cell_type": "markdown",
      "metadata": {
        "id": "cqBqb-TuGH_P",
        "colab_type": "text"
      },
      "source": [
        "First version - O(n<sup>2</sup>)"
      ]
    },
    {
      "cell_type": "code",
      "metadata": {
        "id": "anbJdwHTWsx-",
        "colab_type": "code",
        "colab": {}
      },
      "source": [
        "def prefix_average1(s):\n",
        "  n = len(s)\n",
        "  a = [0] * n             # create list of n zeros\n",
        "  for i in range(n):\n",
        "    total = 0             # compute each element\n",
        "    for j in range(i+1):\n",
        "      total += s[j]\n",
        "    a[i] = total / (i+1)  # record the average\n",
        "  return a"
      ],
      "execution_count": null,
      "outputs": []
    },
    {
      "cell_type": "code",
      "metadata": {
        "id": "uYZzebxwXnTm",
        "colab_type": "code",
        "colab": {
          "base_uri": "https://localhost:8080/",
          "height": 34
        },
        "outputId": "02704b71-b305-4032-c5f0-f98a0788c0fa"
      },
      "source": [
        "prefix_average1([10,20,90,100])   # Average of 1 day, 2 days, 3 days, and so on."
      ],
      "execution_count": null,
      "outputs": [
        {
          "output_type": "execute_result",
          "data": {
            "text/plain": [
              "[10.0, 15.0, 40.0, 55.0]"
            ]
          },
          "metadata": {
            "tags": []
          },
          "execution_count": 6
        }
      ]
    },
    {
      "cell_type": "markdown",
      "metadata": {
        "id": "5UjgWb6UGFKg",
        "colab_type": "text"
      },
      "source": [
        "Second version - O(n<sup>2</sup>)"
      ]
    },
    {
      "cell_type": "code",
      "metadata": {
        "id": "hh19wlxTXruu",
        "colab_type": "code",
        "colab": {}
      },
      "source": [
        "def prefix_average2(s):\n",
        "  n = len(s)\n",
        "  a = [0] * n                   # create list of n zeros\n",
        "  for i in range(n):\n",
        "    a[i] = sum(s[0:i+1])/(i+1)  # record the average\n",
        "  return a"
      ],
      "execution_count": 3,
      "outputs": []
    },
    {
      "cell_type": "code",
      "metadata": {
        "id": "fw3LMy9rGgIG",
        "colab_type": "code",
        "colab": {
          "base_uri": "https://localhost:8080/",
          "height": 34
        },
        "outputId": "c076079c-35c3-472c-e896-2c4b0e11d802"
      },
      "source": [
        "prefix_average2([10,20,90,100])   # Average of 1 day, 2 days, 3 days, and so on."
      ],
      "execution_count": 4,
      "outputs": [
        {
          "output_type": "execute_result",
          "data": {
            "text/plain": [
              "[10.0, 15.0, 40.0, 55.0]"
            ]
          },
          "metadata": {
            "tags": []
          },
          "execution_count": 4
        }
      ]
    },
    {
      "cell_type": "markdown",
      "metadata": {
        "id": "TePZ2uDTII1f",
        "colab_type": "text"
      },
      "source": [
        "Third version (linear) - O(n)"
      ]
    },
    {
      "cell_type": "code",
      "metadata": {
        "id": "aYRrN77gGfgf",
        "colab_type": "code",
        "colab": {}
      },
      "source": [
        "def prefix_average3(s):\n",
        "  n = len(s)\n",
        "  a = [0] * n             # create list of n zeros\n",
        "  total = 0\n",
        "  for i in range(n):\n",
        "    total += s[i]         # update total sum to include s[i]\n",
        "    a[i] = total / (i+1)  # compute average based on current sum\n",
        "  return a"
      ],
      "execution_count": 5,
      "outputs": []
    },
    {
      "cell_type": "code",
      "metadata": {
        "id": "ySecafC7IZKZ",
        "colab_type": "code",
        "colab": {
          "base_uri": "https://localhost:8080/",
          "height": 34
        },
        "outputId": "6c17c05d-98cc-4470-d1c3-e5bcb57c488d"
      },
      "source": [
        "prefix_average3([10,20,90,100])   # Average of 1 day, 2 days, 3 days, and so on."
      ],
      "execution_count": 6,
      "outputs": [
        {
          "output_type": "execute_result",
          "data": {
            "text/plain": [
              "[10.0, 15.0, 40.0, 55.0]"
            ]
          },
          "metadata": {
            "tags": []
          },
          "execution_count": 6
        }
      ]
    },
    {
      "cell_type": "markdown",
      "metadata": {
        "id": "AOmE5vnKUpHO",
        "colab_type": "text"
      },
      "source": [
        "# Exercises"
      ]
    },
    {
      "cell_type": "markdown",
      "metadata": {
        "id": "f3s8oO19VIkF",
        "colab_type": "text"
      },
      "source": [
        "Example 1: O(?)"
      ]
    },
    {
      "cell_type": "code",
      "metadata": {
        "id": "FAvwnRb5Unvm",
        "colab_type": "code",
        "colab": {}
      },
      "source": [
        "def example1(s):\n",
        "  n = len(s)\n",
        "  total = 0\n",
        "  for i in range(n):    # loop from 0 to n-1\n",
        "    total += s[i]\n",
        "  return total\n"
      ],
      "execution_count": null,
      "outputs": []
    },
    {
      "cell_type": "markdown",
      "metadata": {
        "id": "frLGcjTlVLqN",
        "colab_type": "text"
      },
      "source": [
        "Example 2: O(?)"
      ]
    },
    {
      "cell_type": "code",
      "metadata": {
        "id": "-Rojh-UKVNBj",
        "colab_type": "code",
        "colab": {}
      },
      "source": [
        "def example2(s):\n",
        "  n = len(s)\n",
        "  total = 0\n",
        "  for i in range(0,n,2):  # Increment of 2\n",
        "    total += s[i]\n",
        "  return total"
      ],
      "execution_count": 28,
      "outputs": []
    },
    {
      "cell_type": "markdown",
      "metadata": {
        "id": "y3_IGG2YVuNu",
        "colab_type": "text"
      },
      "source": [
        "Example 3: O(?)"
      ]
    },
    {
      "cell_type": "code",
      "metadata": {
        "id": "ZDFqloUuVYOM",
        "colab_type": "code",
        "colab": {}
      },
      "source": [
        "def example3(s):\n",
        "  n = len(s)\n",
        "  total = 0\n",
        "  for i in range(n):      # loop from 0 to n-1\n",
        "    for k in range(1+i):  # loop from 0 to i\n",
        "      total += s[k]\n",
        "  return total"
      ],
      "execution_count": null,
      "outputs": []
    },
    {
      "cell_type": "markdown",
      "metadata": {
        "id": "4m6V0mMiWG7e",
        "colab_type": "text"
      },
      "source": [
        "Example 4: O(?)"
      ]
    },
    {
      "cell_type": "code",
      "metadata": {
        "id": "HumEf6njWGnH",
        "colab_type": "code",
        "colab": {}
      },
      "source": [
        "def example4(s):\n",
        "  n = len(s)\n",
        "  prefix = 0\n",
        "  total = 0\n",
        "  for i in range(n): \n",
        "    prefix += s[i]\n",
        "    total += prefix\n",
        "  return total"
      ],
      "execution_count": 29,
      "outputs": []
    },
    {
      "cell_type": "markdown",
      "metadata": {
        "id": "-egMqoJMXEl9",
        "colab_type": "text"
      },
      "source": [
        "Example 5: O(?)"
      ]
    },
    {
      "cell_type": "code",
      "metadata": {
        "id": "TuRynzlKXGLT",
        "colab_type": "code",
        "colab": {}
      },
      "source": [
        "# Assume that A and B have equal length of n\n",
        "def example5(A,B):  \n",
        "  n = len(A)\n",
        "  count = 0\n",
        "  for i in range(n):        # loop from 0 to n-1\n",
        "    total = 0\n",
        "    for j in range(n):      # loop from 0 to n-1\n",
        "      for k in range(1+j):  # loop from 0 to j\n",
        "        total += A[k]\n",
        "    if B[i] == total:\n",
        "      count += 1\n",
        "  return count"
      ],
      "execution_count": null,
      "outputs": []
    },
    {
      "cell_type": "markdown",
      "metadata": {
        "id": "goFmuv88XGyN",
        "colab_type": "text"
      },
      "source": [
        "## Exercise Answers"
      ]
    },
    {
      "cell_type": "markdown",
      "metadata": {
        "id": "CtNfQk2yXMCV",
        "colab_type": "text"
      },
      "source": [
        "Example 1: O(n), worst case = n  \n",
        "Example 2: O(n), worst case = n/2  \n",
        "Example 3: O(n<sup>2</sup>), worst case = n(n+1)/2  \n",
        "Example 4: O(n), worst case = n  \n",
        "Example 5: O(n<sup>3</sup>), worst case = n<sup>2</sup>(n+1)/2"
      ]
    },
    {
      "cell_type": "code",
      "metadata": {
        "id": "vrci2pbJutjK",
        "colab_type": "code",
        "colab": {
          "base_uri": "https://localhost:8080/",
          "height": 102
        },
        "outputId": "3441f538-e2f4-4698-a73d-beb20c7255d6"
      },
      "source": [
        "s = np.random.randint(0,100,100)   # Randomise 100 integers\n",
        "print(s)"
      ],
      "execution_count": 34,
      "outputs": [
        {
          "output_type": "stream",
          "text": [
            "[68 59 37 93 25  8 13 67 12 88 46 28 48 48 29  8 86 30 47 36 45 63 50  7\n",
            "  3  6 92 32 17  3 12 16 56 41  3 44 21  2 25 73 94  1 73 96 98 30 75 20\n",
            " 46 37 92 68 18 43 41 77 12 95 78 25  3  0 78 60 95 31 66 65  4 79 63 49\n",
            " 63 95 31 24 22 49  0 77 89 43 39 90 82 20  0 94 76 37 79 69 69 11 15  0\n",
            " 64 27  1 69]\n"
          ],
          "name": "stdout"
        }
      ]
    },
    {
      "cell_type": "markdown",
      "metadata": {
        "id": "cNBdNdrAxD4O",
        "colab_type": "text"
      },
      "source": [
        "Example 1"
      ]
    },
    {
      "cell_type": "code",
      "metadata": {
        "id": "DthRO8B0uQFF",
        "colab_type": "code",
        "colab": {}
      },
      "source": [
        "def example1(s):\n",
        "  n = len(s)\n",
        "  total = 0\n",
        "  count = 0\n",
        "  time_taken = []       # Record runtime for each loop\n",
        "  for i in range(n):    # loop from 0 to n-1\n",
        "    total += s[i]\n",
        "    count += 1\n",
        "    time_taken.append(count)\n",
        "  return total, time_taken"
      ],
      "execution_count": 41,
      "outputs": []
    },
    {
      "cell_type": "code",
      "metadata": {
        "id": "XClPC2UFu6Hd",
        "colab_type": "code",
        "colab": {
          "base_uri": "https://localhost:8080/",
          "height": 296
        },
        "outputId": "7e137b1e-926f-46c4-f7b8-febe4af5350b"
      },
      "source": [
        "total, time_taken = example1(s)\n",
        "plt.plot(time_taken)\n",
        "plt.xlabel('i')\n",
        "plt.ylabel('Number of steps/times')"
      ],
      "execution_count": 43,
      "outputs": [
        {
          "output_type": "execute_result",
          "data": {
            "text/plain": [
              "Text(0, 0.5, 'Number of steps/times')"
            ]
          },
          "metadata": {
            "tags": []
          },
          "execution_count": 43
        },
        {
          "output_type": "display_data",
          "data": {
            "image/png": "[encoded data removed]",
            "text/plain": [
              "<Figure size 432x288 with 1 Axes>"
            ]
          },
          "metadata": {
            "tags": [],
            "needs_background": "light"
          }
        }
      ]
    },
    {
      "cell_type": "markdown",
      "metadata": {
        "id": "-7qjFdLExHO9",
        "colab_type": "text"
      },
      "source": [
        "Example 2"
      ]
    },
    {
      "cell_type": "code",
      "metadata": {
        "id": "7x69n4xBvKD1",
        "colab_type": "code",
        "colab": {}
      },
      "source": [
        "def example2(s):\n",
        "  n = len(s)\n",
        "  total = 0\n",
        "  count = 0\n",
        "  time_taken = []         # Record runtime for each loop\n",
        "  for i in range(0,n,2):  # Increment of 2\n",
        "    total += s[i]\n",
        "    count += 1\n",
        "    time_taken.append(count)\n",
        "  return total, time_taken"
      ],
      "execution_count": 46,
      "outputs": []
    },
    {
      "cell_type": "code",
      "metadata": {
        "id": "_nW3_jBuxQDN",
        "colab_type": "code",
        "colab": {
          "base_uri": "https://localhost:8080/",
          "height": 296
        },
        "outputId": "37a7261a-7314-4cdb-9e71-e984429e3e70"
      },
      "source": [
        "total, time_taken = example2(s)\n",
        "plt.plot(time_taken)\n",
        "plt.xlabel('i')\n",
        "plt.ylabel('Number of steps/times')"
      ],
      "execution_count": 47,
      "outputs": [
        {
          "output_type": "execute_result",
          "data": {
            "text/plain": [
              "Text(0, 0.5, 'Number of steps/times')"
            ]
          },
          "metadata": {
            "tags": []
          },
          "execution_count": 47
        },
        {
          "output_type": "display_data",
          "data": {
            "image/png": "[encoded data removed]",
            "text/plain": [
              "<Figure size 432x288 with 1 Axes>"
            ]
          },
          "metadata": {
            "tags": [],
            "needs_background": "light"
          }
        }
      ]
    },
    {
      "cell_type": "markdown",
      "metadata": {
        "id": "S7G7DhJqxbcl",
        "colab_type": "text"
      },
      "source": [
        "Example 3"
      ]
    },
    {
      "cell_type": "code",
      "metadata": {
        "id": "NCPzrFx8xbPK",
        "colab_type": "code",
        "colab": {}
      },
      "source": [
        "def example3(s):\n",
        "  n = len(s)\n",
        "  total = 0\n",
        "  count = 0\n",
        "  time_taken = []         # Record runtime for each loop\n",
        "  for i in range(n):      # loop from 0 to n-1\n",
        "    for k in range(1+i):  # loop from 0 to i\n",
        "      total += s[k]\n",
        "      count += 1\n",
        "    time_taken.append(count)\n",
        "  return total, time_taken"
      ],
      "execution_count": 51,
      "outputs": []
    },
    {
      "cell_type": "code",
      "metadata": {
        "id": "Mz3qQThgxSBt",
        "colab_type": "code",
        "colab": {
          "base_uri": "https://localhost:8080/",
          "height": 296
        },
        "outputId": "91646c9d-0c04-493e-fdb4-e4929e3e8a6e"
      },
      "source": [
        "total, time_taken = example3(s)\n",
        "plt.plot(time_taken)\n",
        "plt.plot(range(100),[i**2 for i in range(100)])\n",
        "plt.xlabel('i')\n",
        "plt.ylabel('Number of steps/times')\n",
        "plt.legend(['Example3', '$n^2$'])\n",
        "plt.title('Example3')"
      ],
      "execution_count": 73,
      "outputs": [
        {
          "output_type": "execute_result",
          "data": {
            "text/plain": [
              "Text(0, 0.5, 'Number of steps/times')"
            ]
          },
          "metadata": {
            "tags": []
          },
          "execution_count": 73
        },
        {
          "output_type": "display_data",
          "data": {
            "image/png": "[encoded data removed]",
            "text/plain": [
              "<Figure size 432x288 with 1 Axes>"
            ]
          },
          "metadata": {
            "tags": [],
            "needs_background": "light"
          }
        }
      ]
    },
    {
      "cell_type": "markdown",
      "metadata": {
        "id": "m4ORksmnxyrP",
        "colab_type": "text"
      },
      "source": [
        "Example 4"
      ]
    },
    {
      "cell_type": "code",
      "metadata": {
        "id": "W0JGc7Nyxkrl",
        "colab_type": "code",
        "colab": {}
      },
      "source": [
        "def example4(s):\n",
        "  n = len(s)\n",
        "  prefix = 0\n",
        "  total = 0\n",
        "  count = 0\n",
        "  time_taken = []         # Record runtime for each loop\n",
        "  for i in range(n): \n",
        "    prefix += s[i]\n",
        "    total += prefix\n",
        "    count += 1\n",
        "    time_taken.append(count)\n",
        "  return total, time_taken"
      ],
      "execution_count": 53,
      "outputs": []
    },
    {
      "cell_type": "code",
      "metadata": {
        "id": "n51YC88Nx-Wc",
        "colab_type": "code",
        "colab": {
          "base_uri": "https://localhost:8080/",
          "height": 296
        },
        "outputId": "8411e7ce-87c6-4982-c20a-91a1c1ca9d1f"
      },
      "source": [
        "total, time_taken = example4(s)\n",
        "plt.plot(time_taken)\n",
        "plt.xlabel('i')\n",
        "plt.ylabel('Number of steps/times')"
      ],
      "execution_count": 54,
      "outputs": [
        {
          "output_type": "execute_result",
          "data": {
            "text/plain": [
              "Text(0, 0.5, 'Number of steps/times')"
            ]
          },
          "metadata": {
            "tags": []
          },
          "execution_count": 54
        },
        {
          "output_type": "display_data",
          "data": {
            "image/png": "[encoded data removed]",
            "text/plain": [
              "<Figure size 432x288 with 1 Axes>"
            ]
          },
          "metadata": {
            "tags": [],
            "needs_background": "light"
          }
        }
      ]
    },
    {
      "cell_type": "markdown",
      "metadata": {
        "id": "Z0lagd0pyMq8",
        "colab_type": "text"
      },
      "source": [
        "Example 5"
      ]
    },
    {
      "cell_type": "code",
      "metadata": {
        "id": "Odq2HOcWx__M",
        "colab_type": "code",
        "colab": {}
      },
      "source": [
        "# Assume that A and B have equal length of n\n",
        "def example5(A,B):  \n",
        "  n = len(A)\n",
        "  count = 0\n",
        "  count_time = 0\n",
        "  time_taken = []         # Record runtime for each loop\n",
        "  for i in range(n):        # loop from 0 to n-1\n",
        "    total = 0\n",
        "    for j in range(n):      # loop from 0 to n-1\n",
        "      for k in range(1+j):  # loop from 0 to j\n",
        "        total += A[k]\n",
        "        count_time += 1\n",
        "    time_taken.append(count_time)\n",
        "    if B[i] == total:\n",
        "      count += 1\n",
        "  return count, time_taken"
      ],
      "execution_count": 74,
      "outputs": []
    },
    {
      "cell_type": "code",
      "metadata": {
        "id": "O1BEkn97yjVN",
        "colab_type": "code",
        "colab": {
          "base_uri": "https://localhost:8080/",
          "height": 312
        },
        "outputId": "d50f703f-6072-4819-f828-156c3149bd4c"
      },
      "source": [
        "total, time_taken = example5(s,s)\n",
        "plt.plot(time_taken_i)\n",
        "plt.plot(range(100),[i**2 for i in range(100)])\n",
        "plt.plot(range(100), [i**3 for i in range(100)])\n",
        "plt.xlabel('i')\n",
        "plt.ylabel('Number of steps/times')\n",
        "plt.ticklabel_format(style='plain')\n",
        "plt.legend(['Example5', '$n^2$', '$n^3$'])\n",
        "plt.title('Example5')"
      ],
      "execution_count": 76,
      "outputs": [
        {
          "output_type": "execute_result",
          "data": {
            "text/plain": [
              "Text(0.5, 1.0, 'Example5')"
            ]
          },
          "metadata": {
            "tags": []
          },
          "execution_count": 76
        },
        {
          "output_type": "display_data",
          "data": {
            "image/png": "[encoded data removed]",
            "text/plain": [
              "<Figure size 432x288 with 1 Axes>"
            ]
          },
          "metadata": {
            "tags": [],
            "needs_background": "light"
          }
        }
      ]
    }
  ]
}