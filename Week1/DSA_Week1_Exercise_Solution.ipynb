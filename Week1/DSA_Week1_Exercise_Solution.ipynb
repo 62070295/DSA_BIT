{
  "nbformat": 4,
  "nbformat_minor": 0,
  "metadata": {
    "colab": {
      "name": "DSA_Week1_Exercise Solution.ipynb",
      "provenance": [],
      "authorship_tag": "ABX9TyO33Fa/8kAQQqNgBvlBQ7zp",
      "include_colab_link": true
    },
    "kernelspec": {
      "name": "python3",
      "display_name": "Python 3"
    }
  },
  "cells": [
    {
      "cell_type": "markdown",
      "metadata": {
        "id": "view-in-github",
        "colab_type": "text"
      },
      "source": [
        "<a href=\"https://colab.research.google.com/github/noswolf/DSA_BIT/blob/master/Week1/DSA_Week1_Exercise_Solution.ipynb\" target=\"_parent\"><img src=\"https://colab.research.google.com/assets/colab-badge.svg\" alt=\"Open In Colab\"/></a>"
      ]
    },
    {
      "cell_type": "markdown",
      "metadata": {
        "id": "EK2kx8tMmiiT",
        "colab_type": "text"
      },
      "source": [
        "Import required libraries"
      ]
    },
    {
      "cell_type": "code",
      "metadata": {
        "id": "mxN8t_wnmgIC",
        "colab_type": "code",
        "colab": {}
      },
      "source": [
        "import time\n",
        "import numpy as np\n",
        "import matplotlib.pyplot as plt"
      ],
      "execution_count": 1,
      "outputs": []
    },
    {
      "cell_type": "markdown",
      "metadata": {
        "id": "xvGKAr_SmJpO",
        "colab_type": "text"
      },
      "source": [
        "# Exercise Answers"
      ]
    },
    {
      "cell_type": "markdown",
      "metadata": {
        "id": "k-y5Ns3HmMtq",
        "colab_type": "text"
      },
      "source": [
        "Example 1: O(n), worst case = n  \n",
        "Example 2: O(n), worst case = n/2  \n",
        "Example 3: O(n<sup>2</sup>), worst case = n(n+1)/2  \n",
        "Example 4: O(n), worst case = n  \n",
        "Example 5: O(n<sup>3</sup>), worst case = n<sup>2</sup>(n+1)/2"
      ]
    },
    {
      "cell_type": "code",
      "metadata": {
        "id": "7I3MvpcEmDKP",
        "colab_type": "code",
        "colab": {
          "base_uri": "https://localhost:8080/",
          "height": 102
        },
        "outputId": "e6801fe4-1b7b-4592-9cca-74769d260124"
      },
      "source": [
        "np.random.seed(123)\n",
        "s = np.random.randint(0,100,100)   # Randomise 100 integers\n",
        "print(s)"
      ],
      "execution_count": 2,
      "outputs": [
        {
          "output_type": "stream",
          "text": [
            "[66 92 98 17 83 57 86 97 96 47 73 32 46 96 25 83 78 36 96 80 68 49 55 67\n",
            "  2 84 39 66 84 47 61 48  7 99 92 52 97 85 94 27 34 97 76 40  3 69 64 75\n",
            " 34 58 10 22 77 18 15 27 30 52 70 26 80  6 14 75 54 71  1 43 58 55 25 50\n",
            " 84 56 49 12 18 81  1 51 44 48 56 91 49 86  3 67 11 21 89 98  3 11  3 94\n",
            "  6  9 87 14]\n"
          ],
          "name": "stdout"
        }
      ]
    },
    {
      "cell_type": "markdown",
      "metadata": {
        "id": "e9iPVUHLmdlL",
        "colab_type": "text"
      },
      "source": [
        "Example 1"
      ]
    },
    {
      "cell_type": "code",
      "metadata": {
        "id": "QYoOEYctmbKb",
        "colab_type": "code",
        "colab": {}
      },
      "source": [
        "def example1(s):\n",
        "  n = len(s)\n",
        "  total = 0\n",
        "  count = 0\n",
        "  time_taken = []       # Record runtime for each loop\n",
        "  for i in range(n):    # loop from 0 to n-1\n",
        "    total += s[i]\n",
        "    count += 1\n",
        "    time_taken.append(count)\n",
        "  return total, time_taken"
      ],
      "execution_count": 3,
      "outputs": []
    },
    {
      "cell_type": "code",
      "metadata": {
        "id": "jk3yxOUvniTR",
        "colab_type": "code",
        "colab": {
          "base_uri": "https://localhost:8080/",
          "height": 296
        },
        "outputId": "c7f6db8b-cde1-4fd1-f89f-56b5f9f947ca"
      },
      "source": [
        "total, time_taken = example1(s)\n",
        "plt.plot(time_taken)\n",
        "plt.xlabel('i')\n",
        "plt.ylabel('Number of steps/times')"
      ],
      "execution_count": 4,
      "outputs": [
        {
          "output_type": "execute_result",
          "data": {
            "text/plain": [
              "Text(0, 0.5, 'Number of steps/times')"
            ]
          },
          "metadata": {
            "tags": []
          },
          "execution_count": 4
        },
        {
          "output_type": "display_data",
          "data": {
            "image/png": "[encoded data removed]",
            "text/plain": [
              "<Figure size 432x288 with 1 Axes>"
            ]
          },
          "metadata": {
            "tags": [],
            "needs_background": "light"
          }
        }
      ]
    },
    {
      "cell_type": "markdown",
      "metadata": {
        "id": "QIOPy7ysnlth",
        "colab_type": "text"
      },
      "source": [
        "Example 2"
      ]
    },
    {
      "cell_type": "code",
      "metadata": {
        "id": "I5alQRTBnlb9",
        "colab_type": "code",
        "colab": {}
      },
      "source": [
        "def example2(s):\n",
        "  n = len(s)\n",
        "  total = 0\n",
        "  count = 0\n",
        "  time_taken = []         # Record runtime for each loop\n",
        "  for i in range(0,n,2):  # Increment of 2\n",
        "    total += s[i]\n",
        "    count += 1\n",
        "    time_taken.append(count)\n",
        "  return total, time_taken"
      ],
      "execution_count": 5,
      "outputs": []
    },
    {
      "cell_type": "code",
      "metadata": {
        "id": "kWrfCXYlnjxf",
        "colab_type": "code",
        "colab": {
          "base_uri": "https://localhost:8080/",
          "height": 296
        },
        "outputId": "126fe471-83f5-45a3-a54a-02eac6212ec4"
      },
      "source": [
        "total, time_taken = example2(s)\n",
        "plt.plot(time_taken)\n",
        "plt.xlabel('i')\n",
        "plt.ylabel('Number of steps/times')"
      ],
      "execution_count": 6,
      "outputs": [
        {
          "output_type": "execute_result",
          "data": {
            "text/plain": [
              "Text(0, 0.5, 'Number of steps/times')"
            ]
          },
          "metadata": {
            "tags": []
          },
          "execution_count": 6
        },
        {
          "output_type": "display_data",
          "data": {
            "image/png": "[encoded data removed]",
            "text/plain": [
              "<Figure size 432x288 with 1 Axes>"
            ]
          },
          "metadata": {
            "tags": [],
            "needs_background": "light"
          }
        }
      ]
    },
    {
      "cell_type": "markdown",
      "metadata": {
        "id": "fj7BUW-anq-u",
        "colab_type": "text"
      },
      "source": [
        "Example 3"
      ]
    },
    {
      "cell_type": "code",
      "metadata": {
        "id": "wMqol8Vano2m",
        "colab_type": "code",
        "colab": {}
      },
      "source": [
        "def example3(s):\n",
        "  n = len(s)\n",
        "  total = 0\n",
        "  count = 0\n",
        "  time_taken = []         # Record runtime for each loop\n",
        "  for i in range(n):      # loop from 0 to n-1\n",
        "    for k in range(1+i):  # loop from 0 to i\n",
        "      total += s[k]\n",
        "      count += 1\n",
        "    time_taken.append(count)\n",
        "  return total, time_taken"
      ],
      "execution_count": 7,
      "outputs": []
    },
    {
      "cell_type": "code",
      "metadata": {
        "id": "rFvOuaMgnsR-",
        "colab_type": "code",
        "colab": {
          "base_uri": "https://localhost:8080/",
          "height": 312
        },
        "outputId": "053a4047-a452-4c0f-bd7b-f09152bad0ca"
      },
      "source": [
        "total, time_taken = example3(s)\n",
        "plt.plot(time_taken)\n",
        "plt.plot(range(100),[i**2 for i in range(100)])\n",
        "plt.xlabel('i')\n",
        "plt.ylabel('Number of steps/times')\n",
        "plt.legend(['Example3', '$n^2$'])\n",
        "plt.title('Example3')"
      ],
      "execution_count": 8,
      "outputs": [
        {
          "output_type": "execute_result",
          "data": {
            "text/plain": [
              "Text(0.5, 1.0, 'Example3')"
            ]
          },
          "metadata": {
            "tags": []
          },
          "execution_count": 8
        },
        {
          "output_type": "display_data",
          "data": {
            "image/png": "[encoded data removed]",
            "text/plain": [
              "<Figure size 432x288 with 1 Axes>"
            ]
          },
          "metadata": {
            "tags": [],
            "needs_background": "light"
          }
        }
      ]
    },
    {
      "cell_type": "markdown",
      "metadata": {
        "id": "hgXeYURynyoR",
        "colab_type": "text"
      },
      "source": [
        "Example 4"
      ]
    },
    {
      "cell_type": "code",
      "metadata": {
        "id": "2ZTEsfyuntb-",
        "colab_type": "code",
        "colab": {}
      },
      "source": [
        "def example4(s):\n",
        "  n = len(s)\n",
        "  prefix = 0\n",
        "  total = 0\n",
        "  count = 0\n",
        "  time_taken = []         # Record runtime for each loop\n",
        "  for i in range(n): \n",
        "    prefix += s[i]\n",
        "    total += prefix\n",
        "    count += 1\n",
        "    time_taken.append(count)\n",
        "  return total, time_taken"
      ],
      "execution_count": 9,
      "outputs": []
    },
    {
      "cell_type": "code",
      "metadata": {
        "id": "ZjHHUhmxnx0H",
        "colab_type": "code",
        "colab": {
          "base_uri": "https://localhost:8080/",
          "height": 296
        },
        "outputId": "2bbf0dba-536f-4c51-8c7a-b8ca13b82b7c"
      },
      "source": [
        "total, time_taken = example4(s)\n",
        "plt.plot(time_taken)\n",
        "plt.xlabel('i')\n",
        "plt.ylabel('Number of steps/times')"
      ],
      "execution_count": 10,
      "outputs": [
        {
          "output_type": "execute_result",
          "data": {
            "text/plain": [
              "Text(0, 0.5, 'Number of steps/times')"
            ]
          },
          "metadata": {
            "tags": []
          },
          "execution_count": 10
        },
        {
          "output_type": "display_data",
          "data": {
            "image/png": "[encoded data removed]",
            "text/plain": [
              "<Figure size 432x288 with 1 Axes>"
            ]
          },
          "metadata": {
            "tags": [],
            "needs_background": "light"
          }
        }
      ]
    },
    {
      "cell_type": "markdown",
      "metadata": {
        "id": "CVrjR0fbn4Tg",
        "colab_type": "text"
      },
      "source": [
        "Example 5"
      ]
    },
    {
      "cell_type": "code",
      "metadata": {
        "id": "FvpWz7han2hG",
        "colab_type": "code",
        "colab": {}
      },
      "source": [
        "# Assume that A and B have equal length of n\n",
        "def example5(A,B):  \n",
        "  n = len(A)\n",
        "  count = 0\n",
        "  count_time = 0\n",
        "  time_taken = []         # Record runtime for each loop\n",
        "  for i in range(n):        # loop from 0 to n-1\n",
        "    total = 0\n",
        "    for j in range(n):      # loop from 0 to n-1\n",
        "      for k in range(1+j):  # loop from 0 to j\n",
        "        total += A[k]\n",
        "        count_time += 1\n",
        "    time_taken.append(count_time)\n",
        "    if B[i] == total:\n",
        "      count += 1\n",
        "  return count, time_taken"
      ],
      "execution_count": 11,
      "outputs": []
    },
    {
      "cell_type": "code",
      "metadata": {
        "id": "QIjEUhnmn5ym",
        "colab_type": "code",
        "colab": {
          "base_uri": "https://localhost:8080/",
          "height": 312
        },
        "outputId": "d5ef373b-1231-4086-8db4-860d2bd79c79"
      },
      "source": [
        "total, time_taken = example5(s,s)\n",
        "plt.plot(time_taken)\n",
        "plt.plot(range(100),[i**2 for i in range(100)])\n",
        "plt.plot(range(100), [i**3 for i in range(100)])\n",
        "plt.xlabel('i')\n",
        "plt.ylabel('Number of steps/times')\n",
        "plt.ticklabel_format(style='plain')\n",
        "plt.legend(['Example5', '$n^2$', '$n^3$'])\n",
        "plt.title('Example5')"
      ],
      "execution_count": 12,
      "outputs": [
        {
          "output_type": "execute_result",
          "data": {
            "text/plain": [
              "Text(0.5, 1.0, 'Example5')"
            ]
          },
          "metadata": {
            "tags": []
          },
          "execution_count": 12
        },
        {
          "output_type": "display_data",
          "data": {
            "image/png": "[encoded data removed]",
            "text/plain": [
              "<Figure size 432x288 with 1 Axes>"
            ]
          },
          "metadata": {
            "tags": [],
            "needs_background": "light"
          }
        }
      ]
    },
    {
      "cell_type": "code",
      "metadata": {
        "id": "0IN4RGnen69W",
        "colab_type": "code",
        "colab": {}
      },
      "source": [
        ""
      ],
      "execution_count": 12,
      "outputs": []
    }
  ]
}