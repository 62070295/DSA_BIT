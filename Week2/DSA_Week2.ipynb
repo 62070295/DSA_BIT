{
  "nbformat": 4,
  "nbformat_minor": 0,
  "metadata": {
    "colab": {
      "name": "DSA_Week2.ipynb",
      "provenance": [],
      "authorship_tag": "ABX9TyOQkR5SDoC8IA2pHu7DVcpt",
      "include_colab_link": true
    },
    "kernelspec": {
      "name": "python3",
      "display_name": "Python 3"
    }
  },
  "cells": [
    {
      "cell_type": "markdown",
      "metadata": {
        "id": "view-in-github",
        "colab_type": "text"
      },
      "source": [
        "<a href=\"https://colab.research.google.com/github/noswolf/DSA_BIT/blob/master/Week2/DSA_Week2.ipynb\" target=\"_parent\"><img src=\"https://colab.research.google.com/assets/colab-badge.svg\" alt=\"Open In Colab\"/></a>"
      ]
    },
    {
      "cell_type": "markdown",
      "metadata": {
        "id": "rNJcLzOqelvJ",
        "colab_type": "text"
      },
      "source": [
        "Import required libraries"
      ]
    },
    {
      "cell_type": "code",
      "metadata": {
        "id": "d3ANknZDeY1B",
        "colab_type": "code",
        "colab": {}
      },
      "source": [
        "import numpy as np"
      ],
      "execution_count": null,
      "outputs": []
    },
    {
      "cell_type": "markdown",
      "metadata": {
        "id": "euHRifsZev6x",
        "colab_type": "text"
      },
      "source": [
        "# 1-Dimensional Array"
      ]
    },
    {
      "cell_type": "code",
      "metadata": {
        "id": "l6-ZqRbDem_w",
        "colab_type": "code",
        "colab": {
          "base_uri": "https://localhost:8080/",
          "height": 102
        },
        "outputId": "00747f8d-f552-4b5d-8ba0-eeaaf42414ab"
      },
      "source": [
        "a = np.array([1, 2, 3])   # Create a rank 1 array\n",
        "print(type(a))            # Prints \"<class 'numpy.ndarray'>\"\n",
        "print(a.shape)            # Prints \"(3,)\"\n",
        "print(a[1])               # Prints \"2\"\n",
        "print(a)                  # Prints \"[1 2 3]\"\n",
        "a[0] = 5                  # Change an element of the array\n",
        "print(a)                  # Prints \"[5 2 3]\""
      ],
      "execution_count": null,
      "outputs": [
        {
          "output_type": "stream",
          "text": [
            "<class 'numpy.ndarray'>\n",
            "(3,)\n",
            "2\n",
            "[1 2 3]\n",
            "[5 2 3]\n"
          ],
          "name": "stdout"
        }
      ]
    },
    {
      "cell_type": "markdown",
      "metadata": {
        "id": "d7_NNJB-fIS9",
        "colab_type": "text"
      },
      "source": [
        "# Multi-Dimensional Array"
      ]
    },
    {
      "cell_type": "markdown",
      "metadata": {
        "id": "ZAUvYEr95yYA",
        "colab_type": "text"
      },
      "source": [
        "## 2-D Arrays"
      ]
    },
    {
      "cell_type": "code",
      "metadata": {
        "id": "YwX6bhP1e6hw",
        "colab_type": "code",
        "colab": {
          "base_uri": "https://localhost:8080/",
          "height": 102
        },
        "outputId": "1fadfde3-5c44-48d7-9f90-675473c228ac"
      },
      "source": [
        "b = np.array([[1,2,3],[4,5,6]])    # Create a rank 2 array\n",
        "print(type(b))\n",
        "print(b.shape)                     # Prints \"(2, 3)\" indicating 2 dimensions, 2 ranks and size/length of 3 for each rank\n",
        "print(b)\n",
        "print(b[0, 0], b[0, 1], b[1, 0])   # Prints \"1 2 4\""
      ],
      "execution_count": null,
      "outputs": [
        {
          "output_type": "stream",
          "text": [
            "<class 'numpy.ndarray'>\n",
            "(2, 3)\n",
            "[[1 2 3]\n",
            " [4 5 6]]\n",
            "1 2 4\n"
          ],
          "name": "stdout"
        }
      ]
    },
    {
      "cell_type": "code",
      "metadata": {
        "id": "gX1X49dCfAl4",
        "colab_type": "code",
        "colab": {
          "base_uri": "https://localhost:8080/",
          "height": 102
        },
        "outputId": "3fda13a3-ae48-409a-a017-03d75a37acf9"
      },
      "source": [
        "c = np.array([['h','e','l','l','o'],['w','o','r','l','d']]) # Create a rank 2 array\n",
        "print(c)\n",
        "print(type(c))\n",
        "print(c.shape)                      # Prints \"(2, 5)\"\n",
        "print(c[1, 0], c[1, 2])             # Prints \"w r\""
      ],
      "execution_count": null,
      "outputs": [
        {
          "output_type": "stream",
          "text": [
            "[['h' 'e' 'l' 'l' 'o']\n",
            " ['w' 'o' 'r' 'l' 'd']]\n",
            "<class 'numpy.ndarray'>\n",
            "(2, 5)\n",
            "w r\n"
          ],
          "name": "stdout"
        }
      ]
    },
    {
      "cell_type": "code",
      "metadata": {
        "id": "OyjGCTRCh54o",
        "colab_type": "code",
        "colab": {
          "base_uri": "https://localhost:8080/",
          "height": 34
        },
        "outputId": "6c72c35b-6fc3-4a58-a41b-2e3ed1d44479"
      },
      "source": [
        "d = np.array([['h','e','l','l','o'],['w','o','r','l','d'],['w','a','t','c','h']])\n",
        "print(d.shape)                    # Prints \"(3, 5)\" indicating 2 dimensions, 3 ranks and size/length of 5 for each rank"
      ],
      "execution_count": null,
      "outputs": [
        {
          "output_type": "stream",
          "text": [
            "(3, 5)\n"
          ],
          "name": "stdout"
        }
      ]
    },
    {
      "cell_type": "markdown",
      "metadata": {
        "id": "jpVhr-GT511H",
        "colab_type": "text"
      },
      "source": [
        "## 3-D Arrays"
      ]
    },
    {
      "cell_type": "code",
      "metadata": {
        "id": "BvB-7ovKn9w4",
        "colab_type": "code",
        "colab": {
          "base_uri": "https://localhost:8080/",
          "height": 204
        },
        "outputId": "cb039d23-394d-435a-c4ce-b8598573c305"
      },
      "source": [
        "e = np.array([[[1,2,3],[4,5,6]],[[7,8,9],[10,11,12]],[[13,14,15],[16,17,18]]])\n",
        "print(e)\n",
        "print(e.shape)                    # Prints \"(3, 2, 3)\" indicating 3 dimensions, 2 ranks and size/length of 3 for each rank\n",
        "print(e[0][0][0])                 # Prints \"1\"\n",
        "print(e[0][1][2])                 # Prints \"6\" -> Dimension#0, Rank#1, index#2"
      ],
      "execution_count": null,
      "outputs": [
        {
          "output_type": "stream",
          "text": [
            "[[[ 1  2  3]\n",
            "  [ 4  5  6]]\n",
            "\n",
            " [[ 7  8  9]\n",
            "  [10 11 12]]\n",
            "\n",
            " [[13 14 15]\n",
            "  [16 17 18]]]\n",
            "(3, 2, 3)\n",
            "1\n",
            "6\n"
          ],
          "name": "stdout"
        }
      ]
    },
    {
      "cell_type": "markdown",
      "metadata": {
        "id": "sp3PsBkOjQNb",
        "colab_type": "text"
      },
      "source": [
        "#Sequential Search"
      ]
    },
    {
      "cell_type": "code",
      "metadata": {
        "id": "IVh6AO3wjRpt",
        "colab_type": "code",
        "colab": {}
      },
      "source": [
        "def linear_search(data,target): \n",
        "    for i in range(len(data)): \n",
        "        if data[i] == target: \n",
        "            print('Found target at index: {}'.format(i))\n",
        "            return True\n",
        "    return False"
      ],
      "execution_count": 1,
      "outputs": []
    },
    {
      "cell_type": "code",
      "metadata": {
        "id": "PVWdU6GkjxIg",
        "colab_type": "code",
        "colab": {
          "base_uri": "https://localhost:8080/",
          "height": 51
        },
        "outputId": "da71ecc8-8de2-4301-acc1-4ba9f5271f99"
      },
      "source": [
        "data = [10,20,40,50]\n",
        "linear_search(data,40)"
      ],
      "execution_count": 2,
      "outputs": [
        {
          "output_type": "stream",
          "text": [
            "Found target at index: 2\n"
          ],
          "name": "stdout"
        },
        {
          "output_type": "execute_result",
          "data": {
            "text/plain": [
              "True"
            ]
          },
          "metadata": {
            "tags": []
          },
          "execution_count": 2
        }
      ]
    },
    {
      "cell_type": "code",
      "metadata": {
        "id": "5vzdFY-dj4IV",
        "colab_type": "code",
        "colab": {
          "base_uri": "https://localhost:8080/",
          "height": 34
        },
        "outputId": "db425935-eb42-4e6d-bfc2-0fe49e56ea13"
      },
      "source": [
        "linear_search(data,100)"
      ],
      "execution_count": 3,
      "outputs": [
        {
          "output_type": "execute_result",
          "data": {
            "text/plain": [
              "False"
            ]
          },
          "metadata": {
            "tags": []
          },
          "execution_count": 3
        }
      ]
    },
    {
      "cell_type": "code",
      "metadata": {
        "id": "q9FYTbhAj6ld",
        "colab_type": "code",
        "colab": {}
      },
      "source": [
        ""
      ],
      "execution_count": null,
      "outputs": []
    }
  ]
}